{
  "nbformat": 4,
  "nbformat_minor": 0,
  "metadata": {
    "colab": {
      "name": "Rock, Paper, Scissors, Shoot!",
      "provenance": [],
      "authorship_tag": "ABX9TyMnHaaCyPxHSvwcK2mZg/or",
      "include_colab_link": true
    },
    "kernelspec": {
      "name": "python3",
      "display_name": "Python 3"
    },
    "language_info": {
      "name": "python"
    }
  },
  "cells": [
    {
      "cell_type": "markdown",
      "metadata": {
        "id": "view-in-github",
        "colab_type": "text"
      },
      "source": [
        "<a href=\"https://colab.research.google.com/github/solyanab/rps/blob/main/Rock%2CPaper%2CScissors%2CShoot!.ipynb\" target=\"_parent\"><img src=\"https://colab.research.google.com/assets/colab-badge.svg\" alt=\"Open In Colab\"/></a>"
      ]
    },
    {
      "cell_type": "code",
      "metadata": {
        "colab": {
          "base_uri": "https://localhost:8080/"
        },
        "id": "xTIZGTHJqkNT",
        "outputId": "67bd805c-1f08-4aec-8e31-6a59a56671d4"
      },
      "source": [
        "import random\n",
        "game = (\"r\",\"p\",\"s\")\n",
        "\n",
        "while True:\n",
        "    player = input(\"Type r for rock, p for paper, s for scissors, or q to quit the game when you are done:\") \n",
        "    if player == \"r\" or player == \"p\" or player == \"s\" or player == \"q\": \n",
        "        if player == \"q\": \n",
        "            print(\"Goodbye\") \n",
        "            break\n",
        "        computer = random.choice (game) \n",
        "        print(f\"The computer chose {computer}\") \n",
        "        if computer == \"r\": \n",
        "            if player == \"r\": \n",
        "                print(\"Nobody wins. It's a tie.\") \n",
        "            elif player == \"p\": \n",
        "                print(\"Congratulations! You won!\") \n",
        "            elif player == \"s\": \n",
        "                print(\"Oh man! You lose.\") \n",
        "        if computer == \"p\": \n",
        "            if player == \"r\": \n",
        "                print(\"Oh man! You lose.\") \n",
        "            elif player == \"p\": \n",
        "                print(\"Nobody wins. It's a tie.\") \n",
        "            elif player == \"s\": \n",
        "                print(\"Congratulations! You won!\") \n",
        "        if computer == \"s\": \n",
        "            if player == \"r\": \n",
        "                print(\"Congratulations! You won!\") \n",
        "            elif player == \"p\": \n",
        "                print(\"Oh man! You lose.\") \n",
        "            elif player == \"s\": \n",
        "                print(\"Nobody wins. It's a tie.\") \n",
        "    else: \n",
        "        print(\"ERROR! Try typing either r for rock, p for paper, s for scissors, or q if you want to quit the game.\")"
      ],
      "execution_count": null,
      "outputs": [
        {
          "output_type": "stream",
          "text": [
            "Type r for rock, p for paper, s for scissors, or q to quit the game when you are done:g\n",
            "ERROR! Try typing either r for rock, p for paper, s for scissors, or q if you want to quit the game.\n",
            "Type r for rock, p for paper, s for scissors, or q to quit the game when you are done:r\n",
            "The computer chose s\n",
            "Congratulations! You won!\n",
            "Type r for rock, p for paper, s for scissors, or q to quit the game when you are done:t\n",
            "ERROR! Try typing either r for rock, p for paper, s for scissors, or q if you want to quit the game.\n",
            "Type r for rock, p for paper, s for scissors, or q to quit the game when you are done:q\n",
            "Goodbye\n"
          ],
          "name": "stdout"
        }
      ]
    }
  ]
}